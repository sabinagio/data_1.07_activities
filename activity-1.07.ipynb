{
 "cells": [
  {
   "cell_type": "markdown",
   "metadata": {},
   "source": [
    "#### Activity 1\n",
    "\n",
    "Refer to the `files_for_activities/regression_data1.csv` file. (_The same file used in the class example._)\n",
    "\n",
    "##### 1.1. Draw a box plot for the IC2."
   ]
  },
  {
   "cell_type": "code",
   "execution_count": null,
   "metadata": {},
   "outputs": [],
   "source": [
    "# Import libraries\n",
    "import pandas as pd\n",
    "import numpy as np\n",
    "import matplotlib.pyplot as plt\n",
    "import seaborn as sns\n",
    "from scipy import stats\n",
    "from sklearn.preprocessing import MinMaxScaler\n",
    "\n",
    "# Read and view the dataframe\n",
    "df = pd.read_csv('files_for_activities/csv_files/regression_data1.csv')\n",
    "df.head()"
   ]
  },
  {
   "cell_type": "code",
   "execution_count": null,
   "metadata": {},
   "outputs": [],
   "source": [
    "# Plot IC2 boxplot\n",
    "sns.boxplot(df['IC2'])"
   ]
  },
  {
   "cell_type": "markdown",
   "metadata": {},
   "source": [
    "##### 1.2. Print the descriptive statistics for IC2."
   ]
  },
  {
   "cell_type": "code",
   "execution_count": null,
   "metadata": {},
   "outputs": [],
   "source": [
    "df['IC2'].describe()"
   ]
  },
  {
   "cell_type": "markdown",
   "metadata": {},
   "source": [
    "##### 1.3. Remove the outliers from the column IC2."
   ]
  },
  {
   "cell_type": "code",
   "execution_count": null,
   "metadata": {},
   "outputs": [],
   "source": [
    "# Define the quartiles & interquartile range:\n",
    "q1 = df.IC2.quantile(0.25)\n",
    "q3 = df.IC2.quantile(0.75)\n",
    "iqr = q3 - q1\n",
    "\n",
    "# Remove outliers\n",
    "df = df[(df.IC2 > q1 - 1.5 * iqr) & (df.IC2 < q3 + 1.5 * iqr)]"
   ]
  },
  {
   "cell_type": "markdown",
   "metadata": {},
   "source": [
    "#### Activity 2\n",
    "\n",
    "##### 2.1. Repeat the process (log transformation) for the column IC3. Define the function again yourself."
   ]
  },
  {
   "cell_type": "code",
   "execution_count": null,
   "metadata": {},
   "outputs": [],
   "source": [
    "# Define the quartiles & interquartile range:\n",
    "q1 = df.IC3.quantile(0.25)\n",
    "q3 = df.IC3.quantile(0.75)\n",
    "iqr = q3 - q1\n",
    "\n",
    "# Remove outliers\n",
    "df = df[(df.IC3 > q1 - 1.5 * iqr) & (df.IC3 < q3 + 1.5 * iqr)]\n",
    "\n",
    "# Plot distribution\n",
    "sns.displot(df.IC3)"
   ]
  },
  {
   "cell_type": "markdown",
   "metadata": {},
   "source": [
    "##### 2.2. Remove the tails of the transformed column to make it closer to the normal distribution. This time change the factor from 1.5 to 3 when calculating the upper limit and the lower limit. Check the distribution plot. Does it remove the tails effectively? If not change the factor back to 1.5 and see the results."
   ]
  },
  {
   "cell_type": "code",
   "execution_count": null,
   "metadata": {},
   "outputs": [],
   "source": [
    "# Define the quartiles & interquartile range:\n",
    "q1 = df.IC2.quantile(0.25)\n",
    "q3 = df.IC2.quantile(0.75)\n",
    "iqr = q3 - q1\n",
    "\n",
    "# Remove outliers\n",
    "# df = df[(df.IC2 > q1 - 3 * iqr) & (df.IC2 < q3 + 3 * iqr)]\n",
    "\n",
    "# Try again with 1.5 instead of 3\n",
    "df = df[(df.IC2 > q1 - 1.5 * iqr) & (df.IC2 < q3 + 1.5 * iqr)]\n",
    "\n",
    "# Plot distribution\n",
    "sns.displot(df.IC3)"
   ]
  },
  {
   "cell_type": "markdown",
   "metadata": {},
   "source": [
    "There is not a significant difference when removing outliers using a factor of 1.5 or 3. However, the distribution gets closer to a normal distribution after doing the second removal of outliers.\n",
    "\n",
    "#### Activity 3\n",
    "\n",
    "Repeat the same steps for column `IC5` for box-cox transformation."
   ]
  },
  {
   "cell_type": "code",
   "execution_count": null,
   "metadata": {},
   "outputs": [],
   "source": [
    "# Define the quartiles & interquartile range:\n",
    "q1 = df.IC5.quantile(0.25)\n",
    "q3 = df.IC5.quantile(0.75)\n",
    "iqr = q3 - q1\n",
    "\n",
    "# Remove outliers\n",
    "df = df[(df.IC5 > q1 - 1.5 * iqr) & (df.IC5 < q3 + 1.5 * iqr)]\n",
    "\n",
    "# Box Cox transformation\n",
    "def Box_Cox(df):\n",
    "    for column in df:\n",
    "        if len(df[column].unique()) > 500:\n",
    "            df[column] = np.where(df[column]<=0, np.nan, df[column])        \n",
    "            df[column] = df[column].fillna(df[column].mean())\n",
    "            df[column], _ = stats.boxcox(df[column])\n",
    "    return df\n",
    "\n",
    "df = Box_Cox(df) \n",
    "\n",
    "sns.displot(df.IC5)"
   ]
  },
  {
   "cell_type": "markdown",
   "metadata": {},
   "source": [
    "#### Activity 4\n",
    "\n",
    "##### 4.1. Select 3 numeric columns."
   ]
  },
  {
   "cell_type": "code",
   "execution_count": null,
   "metadata": {},
   "outputs": [],
   "source": [
    "df_num = df.loc[:,['HV1', 'IC1', 'AVGGIFT']]\n",
    "df_num.head()"
   ]
  },
  {
   "cell_type": "markdown",
   "metadata": {},
   "source": [
    "##### 4.2. Plot distributions."
   ]
  },
  {
   "cell_type": "code",
   "execution_count": null,
   "metadata": {},
   "outputs": [],
   "source": [
    "for i in df_num.columns:\n",
    "    sns.displot(df_num[i], kde=True)"
   ]
  },
  {
   "cell_type": "markdown",
   "metadata": {},
   "source": [
    "##### 4.3. Normalize."
   ]
  },
  {
   "cell_type": "code",
   "execution_count": null,
   "metadata": {},
   "outputs": [],
   "source": [
    "# We'll use the Box Cox method for normalization as done previously:\n",
    "Box_Cox(df_num)"
   ]
  },
  {
   "cell_type": "markdown",
   "metadata": {},
   "source": [
    "##### 4.4. Plot new distributions."
   ]
  },
  {
   "cell_type": "code",
   "execution_count": null,
   "metadata": {},
   "outputs": [],
   "source": [
    "for i in df_num.columns:\n",
    "    sns.displot(df[i], kde=True)\n",
    "    plt.show()"
   ]
  }
 ],
 "metadata": {
  "interpreter": {
   "hash": "916dbcbb3f70747c44a77c7bcd40155683ae19c65e1c03b4aa3499c5328201f1"
  },
  "kernelspec": {
   "display_name": "Python 3.8.10 64-bit",
   "language": "python",
   "name": "python3"
  },
  "language_info": {
   "codemirror_mode": {
    "name": "ipython",
    "version": 3
   },
   "file_extension": ".py",
   "mimetype": "text/x-python",
   "name": "python",
   "nbconvert_exporter": "python",
   "pygments_lexer": "ipython3",
   "version": "3.8.10"
  },
  "orig_nbformat": 4
 },
 "nbformat": 4,
 "nbformat_minor": 2
}
